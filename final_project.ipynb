{
 "cells": [
  {
   "cell_type": "code",
   "execution_count": 1,
   "id": "3949d7ef",
   "metadata": {},
   "outputs": [],
   "source": [
    "import pandas as pd\n",
    "import seaborn as sns \n",
    "import numpy as np\n",
    "import matplotlib.pyplot as plt\n",
    "import math\n",
    "import warnings\n",
    "warnings.filterwarnings('ignore')\n",
    "from sklearn.metrics import mean_squared_error\n",
    "from statsmodels.tsa.arima.model import ARIMA\n",
    "from statsmodels.tsa.vector_ar.var_model import VAR"
   ]
  },
  {
   "cell_type": "code",
   "execution_count": 2,
   "id": "46af06c3",
   "metadata": {},
   "outputs": [],
   "source": [
    "import warnings\n",
    "warnings.filterwarnings('ignore')"
   ]
  },
  {
   "cell_type": "code",
   "execution_count": 3,
   "id": "6fbbd77c",
   "metadata": {},
   "outputs": [],
   "source": [
    "df = pd.read_excel('data.xlsx')"
   ]
  },
  {
   "cell_type": "code",
   "execution_count": 4,
   "id": "ccfafc8c",
   "metadata": {},
   "outputs": [],
   "source": [
    "df = df.dropna()"
   ]
  },
  {
   "cell_type": "code",
   "execution_count": 5,
   "id": "40b7e55c",
   "metadata": {},
   "outputs": [],
   "source": [
    "#df.columns"
   ]
  },
  {
   "cell_type": "code",
   "execution_count": 12,
   "id": "6a678f21",
   "metadata": {},
   "outputs": [
    {
     "name": "stdout",
     "output_type": "stream",
     "text": [
      "Please Select the mode : \n",
      "\n",
      "Enter 1 to forcast a single column \n",
      "Enter 2 to forcast all the columns:    2\n"
     ]
    }
   ],
   "source": [
    "flag = True\n",
    "while flag:\n",
    "    mode = input('Please Select the mode : \\n\\nEnter 1 to forcast a single column \\nEnter 2 to forcast all the columns:    ')\n",
    "    if (int(mode) != 1 and int(mode) != 2):\n",
    "        print(int(mode))\n",
    "        print('\\nError!! You can enter either 1 or 2 only')\n",
    "    else:\n",
    "        flag = False"
   ]
  },
  {
   "cell_type": "code",
   "execution_count": 13,
   "id": "2a8ab26c",
   "metadata": {},
   "outputs": [],
   "source": [
    "def show_columns(columns):\n",
    "    index = 1\n",
    "    for col in columns:\n",
    "        print('{:>40}'.format(col) + '          ' + str(index))\n",
    "        index+=1"
   ]
  },
  {
   "cell_type": "code",
   "execution_count": 14,
   "id": "35e1dbf3",
   "metadata": {},
   "outputs": [],
   "source": [
    "def create_dataframe(col):\n",
    "    return df[col]"
   ]
  },
  {
   "cell_type": "code",
   "execution_count": 15,
   "id": "e9e724b7",
   "metadata": {},
   "outputs": [],
   "source": [
    "def get_result(series):\n",
    "    # split into train and test sets\n",
    "    train = series.values\n",
    "    history = [x for x in train]\n",
    "    predictions = list()\n",
    "    # walk-forward validation\n",
    "    model = ARIMA(history, order=(5,1,0))\n",
    "    model_fit = model.fit()\n",
    "    output = model_fit.forecast()\n",
    "    yhat = output[0]\n",
    "    return yhat"
   ]
  },
  {
   "cell_type": "code",
   "execution_count": 16,
   "id": "8911d56b",
   "metadata": {},
   "outputs": [],
   "source": [
    "def get_complete_result():\n",
    "    data = df.drop(['Month'], axis=1)\n",
    "    data.index = df.Month\n",
    "    \n",
    "    model = VAR(endog=data)\n",
    "    model_fit = model.fit()\n",
    "\n",
    "    # make prediction on validation\n",
    "    prediction = model_fit.forecast(model_fit.y, steps=1)\n",
    "    result = pd.Series(prediction[0] , index = data.columns)\n",
    "    return result"
   ]
  },
  {
   "cell_type": "code",
   "execution_count": 17,
   "id": "f55b31bb",
   "metadata": {},
   "outputs": [
    {
     "name": "stdout",
     "output_type": "stream",
     "text": [
      "National Cement Black (50 Kg)               15.056956\n",
      "National Cement White (50 Kg)               38.547308\n",
      "National Gypsum (40 Kg)                     14.897696\n",
      "Sand white soft (m³)                        58.877758\n",
      "Mixed Sand (sand and pebble) (m³)           44.495246\n",
      "Red Sand (m³)                               27.596550\n",
      "Black Block  15cm (1000 Grain)            1724.567574\n",
      "Black Block 20cm (1000 Grain)             1792.785238\n",
      "Resistant Concrete 350 K (m³)              217.673364\n",
      "Resistant Concrete 250 K (m³)              194.827411\n",
      "Normal Concrete 350 K (m³)                 207.985812\n",
      "Normal Concrete 250 K (m³)                 185.587907\n",
      "National Marble tiles (m²)                  22.404459\n",
      "National Reinforcing iron   6mm (Ton)     4216.780534\n",
      "National Reinforcing iron   8mm (Ton)     3581.404751\n",
      "National Reinforcing iron   10mm (Ton)    3593.679350\n",
      "National Reinforcing iron   12mm (Ton)    3246.573345\n",
      "National Reinforcing iron   14mm (Ton)    3241.411759\n",
      "National Reinforcing iron   16mm (Ton)    3242.660563\n",
      "National Reinforcing iron   18mm (Ton)    3242.257780\n",
      "Chinese Iron Binding cables (10 Kg)         54.627348\n",
      "National Electrical Wires 2.5mm (m)          1.084166\n",
      "National Electrical Wires 4mm (m)            1.570134\n",
      "National Electrical Wires 6mm (m)            2.464668\n",
      "National Electrical Wires 10mm (m)          18.750040\n",
      "National Electrical Wires 25mm (m)          40.918171\n",
      "National Electrical Wires 35mm (m)          54.469380\n",
      "National Electrical Wires 50mm (m)          75.380727\n",
      "National Electrical Wires 70mm (m)         109.658997\n",
      "National Electrical Wires 95mm (m)         148.256849\n",
      "National Electrical Wires 120mm (m)        184.348999\n",
      "National Electrical Wires 300mm (m)        464.004573\n",
      "Aluminum (Saudi, Arch side) (5.8 m)         75.489332\n",
      "Wood Chilian (m³)                         1607.999711\n",
      "Wood Romanian (m³)                        1483.505301\n",
      "Wood African Teak (m³)                    5240.307773\n",
      "Wood Indonesian Ablakash (m³)             2802.844080\n",
      "Coal (Kg)                                    9.311135\n",
      "dtype: float64\n"
     ]
    }
   ],
   "source": [
    "if mode == '1':\n",
    "    show_columns(df.columns)\n",
    "    col = input('Enter the coumn number which you want to predict : ')\n",
    "    column = df.columns[int(col)-1]\n",
    "    new_df = create_dataframe(column)\n",
    "    forcast = get_result(new_df)\n",
    "    result = pd.Series(forcast , index = [column] )\n",
    "    print(\"\\n\" + 'Forcast for the next month\\n')\n",
    "    print(result)\n",
    "    \n",
    "else:\n",
    "    result = get_complete_result()\n",
    "    print(result)"
   ]
  },
  {
   "cell_type": "code",
   "execution_count": null,
   "id": "12aceff1",
   "metadata": {},
   "outputs": [],
   "source": []
  },
  {
   "cell_type": "code",
   "execution_count": null,
   "id": "b3b524e7",
   "metadata": {},
   "outputs": [],
   "source": []
  }
 ],
 "metadata": {
  "kernelspec": {
   "display_name": "Python 3",
   "language": "python",
   "name": "python3"
  },
  "language_info": {
   "codemirror_mode": {
    "name": "ipython",
    "version": 3
   },
   "file_extension": ".py",
   "mimetype": "text/x-python",
   "name": "python",
   "nbconvert_exporter": "python",
   "pygments_lexer": "ipython3",
   "version": "3.8.8"
  }
 },
 "nbformat": 4,
 "nbformat_minor": 5
}
