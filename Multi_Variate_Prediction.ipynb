{
 "cells": [
  {
   "cell_type": "code",
   "execution_count": 1,
   "id": "0bc05370",
   "metadata": {},
   "outputs": [
    {
     "data": {
      "text/plain": [
       "Month                                     datetime64[ns]\n",
       "National Cement Black (50 Kg)                    float64\n",
       "National Cement White (50 Kg)                    float64\n",
       "National Gypsum (40 Kg)                          float64\n",
       "Sand white soft (m³)                             float64\n",
       "Mixed Sand (sand and pebble) (m³)                float64\n",
       "Red Sand (m³)                                    float64\n",
       "Black Block  15cm (1000 Grain)                   float64\n",
       "Black Block 20cm (1000 Grain)                    float64\n",
       "Resistant Concrete 350 K (m³)                    float64\n",
       "Resistant Concrete 250 K (m³)                    float64\n",
       "Normal Concrete 350 K (m³)                       float64\n",
       "Normal Concrete 250 K (m³)                       float64\n",
       "National Marble tiles (m²)                       float64\n",
       "National Reinforcing iron   6mm (Ton)            float64\n",
       "National Reinforcing iron   8mm (Ton)            float64\n",
       "National Reinforcing iron   10mm (Ton)           float64\n",
       "National Reinforcing iron   12mm (Ton)           float64\n",
       "National Reinforcing iron   14mm (Ton)           float64\n",
       "National Reinforcing iron   16mm (Ton)           float64\n",
       "National Reinforcing iron   18mm (Ton)           float64\n",
       "Chinese Iron Binding cables (10 Kg)              float64\n",
       "National Electrical Wires 2.5mm (m)              float64\n",
       "National Electrical Wires 4mm (m)                float64\n",
       "National Electrical Wires 6mm (m)                float64\n",
       "National Electrical Wires 10mm (m)               float64\n",
       "National Electrical Wires 25mm (m)               float64\n",
       "National Electrical Wires 35mm (m)               float64\n",
       "National Electrical Wires 50mm (m)               float64\n",
       "National Electrical Wires 70mm (m)               float64\n",
       "National Electrical Wires 95mm (m)               float64\n",
       "National Electrical Wires 120mm (m)              float64\n",
       "National Electrical Wires 300mm (m)              float64\n",
       "Aluminum (Saudi, Arch side) (5.8 m)              float64\n",
       "Wood Chilian (m³)                                float64\n",
       "Wood Romanian (m³)                               float64\n",
       "Wood African Teak (m³)                           float64\n",
       "Wood Indonesian Ablakash (m³)                    float64\n",
       "Coal (Kg)                                        float64\n",
       "dtype: object"
      ]
     },
     "execution_count": 1,
     "metadata": {},
     "output_type": "execute_result"
    }
   ],
   "source": [
    "#import required packages\n",
    "import pandas as pd\n",
    "import matplotlib.pyplot as plt\n",
    "%matplotlib inline\n",
    "\n",
    "#read the data\n",
    "df = pd.read_excel('data.xlsx')\n",
    "#check the dtypes\n",
    "df.dtypes"
   ]
  },
  {
   "cell_type": "code",
   "execution_count": 4,
   "id": "fe12af11",
   "metadata": {},
   "outputs": [],
   "source": [
    "data = df.drop(['Month'], axis=1)\n",
    "data.index = df.Month"
   ]
  },
  {
   "cell_type": "code",
   "execution_count": 5,
   "id": "86e2619c",
   "metadata": {},
   "outputs": [
    {
     "name": "stderr",
     "output_type": "stream",
     "text": [
      "C:\\Users\\shubh\\anaconda3\\lib\\site-packages\\statsmodels\\tsa\\base\\tsa_model.py:524: ValueWarning: No frequency information was provided, so inferred frequency MS will be used.\n",
      "  warnings.warn('No frequency information was'\n",
      "C:\\Users\\shubh\\anaconda3\\lib\\site-packages\\statsmodels\\base\\wrapper.py:34: FutureWarning: y is a deprecated alias for endog, will be removed in version 0.11.0\n",
      "  obj = getattr(results, attr)\n"
     ]
    }
   ],
   "source": [
    "#creating the train and validation set\n",
    "train = data[:int(0.8*(len(data)))]\n",
    "valid = data[int(0.8*(len(data))):]\n",
    "\n",
    "#fit the model\n",
    "from statsmodels.tsa.vector_ar.var_model import VAR\n",
    "\n",
    "model = VAR(endog=train)\n",
    "model_fit = model.fit()\n",
    "\n",
    "# make prediction on validation\n",
    "prediction = model_fit.forecast(model_fit.y, steps=len(valid))"
   ]
  },
  {
   "cell_type": "code",
   "execution_count": 7,
   "id": "4bc67239",
   "metadata": {},
   "outputs": [
    {
     "data": {
      "text/plain": [
       "(28, 38)"
      ]
     },
     "execution_count": 7,
     "metadata": {},
     "output_type": "execute_result"
    }
   ],
   "source": [
    "prediction.shape"
   ]
  },
  {
   "cell_type": "code",
   "execution_count": 8,
   "id": "2b63e40b",
   "metadata": {},
   "outputs": [
    {
     "data": {
      "text/plain": [
       "(137, 39)"
      ]
     },
     "execution_count": 8,
     "metadata": {},
     "output_type": "execute_result"
    }
   ],
   "source": [
    "df.shape"
   ]
  },
  {
   "cell_type": "code",
   "execution_count": null,
   "id": "72d75a04",
   "metadata": {},
   "outputs": [],
   "source": []
  }
 ],
 "metadata": {
  "kernelspec": {
   "display_name": "Python 3",
   "language": "python",
   "name": "python3"
  },
  "language_info": {
   "codemirror_mode": {
    "name": "ipython",
    "version": 3
   },
   "file_extension": ".py",
   "mimetype": "text/x-python",
   "name": "python",
   "nbconvert_exporter": "python",
   "pygments_lexer": "ipython3",
   "version": "3.8.8"
  }
 },
 "nbformat": 4,
 "nbformat_minor": 5
}
